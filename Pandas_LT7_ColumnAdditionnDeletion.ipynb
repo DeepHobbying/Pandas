{
 "cells": [
  {
   "cell_type": "code",
   "execution_count": 1,
   "metadata": {},
   "outputs": [],
   "source": [
    "import pandas as pd\n",
    "import numpy as np"
   ]
  },
  {
   "cell_type": "code",
   "execution_count": 2,
   "metadata": {},
   "outputs": [
    {
     "name": "stdout",
     "output_type": "stream",
     "text": [
      "   A  B\n",
      "0  0  1\n",
      "1  2  3\n",
      "2  4  5\n",
      "3  6  7\n"
     ]
    }
   ],
   "source": [
    "df = pd.DataFrame(np.arange(8).reshape(4,2),columns=list(\"AB\"))\n",
    "print(df)"
   ]
  },
  {
   "cell_type": "markdown",
   "metadata": {},
   "source": [
    "### Column Addition"
   ]
  },
  {
   "cell_type": "code",
   "execution_count": 3,
   "metadata": {},
   "outputs": [
    {
     "name": "stdout",
     "output_type": "stream",
     "text": [
      "   A  B     C\n",
      "0  0  1  Test\n",
      "1  2  3  Test\n",
      "2  4  5  Test\n",
      "3  6  7  Test\n"
     ]
    }
   ],
   "source": [
    "df['C']='Test'\n",
    "print(df)"
   ]
  },
  {
   "cell_type": "code",
   "execution_count": 4,
   "metadata": {},
   "outputs": [
    {
     "name": "stdout",
     "output_type": "stream",
     "text": [
      "   A  B     C   D\n",
      "0  0  1  Test  51\n",
      "1  2  3  Test  52\n",
      "2  4  5  Test  53\n",
      "3  6  7  Test  54\n"
     ]
    }
   ],
   "source": [
    "new_col = [51,52,53,54]\n",
    "\n",
    "df['D'] = new_col\n",
    "print(df)"
   ]
  },
  {
   "cell_type": "code",
   "execution_count": 5,
   "metadata": {},
   "outputs": [
    {
     "name": "stdout",
     "output_type": "stream",
     "text": [
      "   A  A_n_B  B     C   D\n",
      "0  0  False  1  Test  51\n",
      "1  2  False  3  Test  52\n",
      "2  4  False  5  Test  53\n",
      "3  6   True  7  Test  54\n"
     ]
    }
   ],
   "source": [
    "df.insert(1,'A_n_B',df['A']>5)\n",
    "print(df)"
   ]
  },
  {
   "cell_type": "code",
   "execution_count": 8,
   "metadata": {},
   "outputs": [
    {
     "name": "stdout",
     "output_type": "stream",
     "text": [
      "   A  A_n_B  B     C   D         E\n",
      "0  0  False  1  Test  51  0.000000\n",
      "1  2  False  3  Test  52  0.666667\n",
      "2  4  False  5  Test  53  0.800000\n",
      "3  6   True  7  Test  54  0.857143\n"
     ]
    }
   ],
   "source": [
    "df = df.assign(E = df['A']/df['B'])\n",
    "print(df)"
   ]
  },
  {
   "cell_type": "code",
   "execution_count": 9,
   "metadata": {},
   "outputs": [
    {
     "name": "stdout",
     "output_type": "stream",
     "text": [
      "   A  A_n_B  B     C   D         E         F\n",
      "0  0  False  1  Test  51  0.000000  0.000000\n",
      "1  2  False  3  Test  52  0.666667  0.666667\n",
      "2  4  False  5  Test  53  0.800000  0.800000\n",
      "3  6   True  7  Test  54  0.857143  0.857143\n"
     ]
    }
   ],
   "source": [
    "df = df.assign(F = lambda x: x.A/x.B)\n",
    "print(df)"
   ]
  },
  {
   "cell_type": "markdown",
   "metadata": {},
   "source": [
    "### Column Deletion"
   ]
  },
  {
   "cell_type": "code",
   "execution_count": 10,
   "metadata": {},
   "outputs": [
    {
     "name": "stdout",
     "output_type": "stream",
     "text": [
      "   A  B     C   D         E         F\n",
      "0  0  1  Test  51  0.000000  0.000000\n",
      "1  2  3  Test  52  0.666667  0.666667\n",
      "2  4  5  Test  53  0.800000  0.800000\n",
      "3  6  7  Test  54  0.857143  0.857143\n"
     ]
    }
   ],
   "source": [
    "del df['A_n_B']\n",
    "print(df)"
   ]
  },
  {
   "cell_type": "code",
   "execution_count": 11,
   "metadata": {},
   "outputs": [
    {
     "name": "stdout",
     "output_type": "stream",
     "text": [
      "0    0.000000\n",
      "1    0.666667\n",
      "2    0.800000\n",
      "3    0.857143\n",
      "Name: E, dtype: float64\n"
     ]
    }
   ],
   "source": [
    "deleted = df.pop('E')\n",
    "print(deleted)"
   ]
  }
 ],
 "metadata": {
  "kernelspec": {
   "display_name": "Python 3",
   "language": "python",
   "name": "python3"
  },
  "language_info": {
   "codemirror_mode": {
    "name": "ipython",
    "version": 3
   },
   "file_extension": ".py",
   "mimetype": "text/x-python",
   "name": "python",
   "nbconvert_exporter": "python",
   "pygments_lexer": "ipython3",
   "version": "3.7.1"
  }
 },
 "nbformat": 4,
 "nbformat_minor": 2
}
