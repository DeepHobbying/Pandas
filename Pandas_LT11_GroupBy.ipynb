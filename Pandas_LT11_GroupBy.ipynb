{
 "cells": [
  {
   "cell_type": "code",
   "execution_count": 1,
   "metadata": {},
   "outputs": [],
   "source": [
    "import pandas as pd\n",
    "import numpy as np"
   ]
  },
  {
   "cell_type": "markdown",
   "metadata": {},
   "source": [
    "# default is axis=0\n",
    "grouped = obj.groupby(key)\n",
    "\n",
    "grouped = obj.groupby(key, axis=1)\n",
    "\n",
    "grouped = obj.groupby([key1, key2])"
   ]
  },
  {
   "cell_type": "code",
   "execution_count": 2,
   "metadata": {},
   "outputs": [
    {
     "name": "stdout",
     "output_type": "stream",
     "text": [
      "     A      B  C   D\n",
      "0  foo    one  0  20\n",
      "1  bar    one  1  21\n",
      "2  foo    two  2  22\n",
      "3  bar  three  3  23\n",
      "4  foo    two  4  24\n",
      "5  bar    two  5  25\n",
      "6  foo    one  6  26\n",
      "7  foo  three  7  27\n"
     ]
    }
   ],
   "source": [
    "df = pd.DataFrame({'A' : ['foo', 'bar', 'foo', 'bar',\n",
    "                           'foo', 'bar', 'foo', 'foo'],\n",
    "                    'B' : ['one', 'one', 'two', 'three',\n",
    "                           'two', 'two', 'one', 'three'],\n",
    "                    'C' : np.arange(8),\n",
    "                    'D' : np.arange(20,28)})\n",
    "\n",
    "print(df)"
   ]
  },
  {
   "cell_type": "code",
   "execution_count": 6,
   "metadata": {},
   "outputs": [
    {
     "name": "stdout",
     "output_type": "stream",
     "text": [
      "{'bar': Int64Index([1, 3, 5], dtype='int64'), 'foo': Int64Index([0, 2, 4, 6, 7], dtype='int64')}\n",
      "     A      B  C   D\n",
      "0  foo    one  0  20\n",
      "2  foo    two  2  22\n",
      "4  foo    two  4  24\n",
      "6  foo    one  6  26\n",
      "7  foo  three  7  27\n"
     ]
    }
   ],
   "source": [
    "grouped = df.groupby('A')\n",
    "print(grouped.groups)\n",
    "print(grouped.get_group('foo'))"
   ]
  },
  {
   "cell_type": "code",
   "execution_count": 4,
   "metadata": {},
   "outputs": [
    {
     "name": "stdout",
     "output_type": "stream",
     "text": [
      "{('bar', 'one'): Int64Index([1], dtype='int64'), ('bar', 'three'): Int64Index([3], dtype='int64'), ('bar', 'two'): Int64Index([5], dtype='int64'), ('foo', 'one'): Int64Index([0, 6], dtype='int64'), ('foo', 'three'): Int64Index([7], dtype='int64'), ('foo', 'two'): Int64Index([2, 4], dtype='int64')}\n"
     ]
    }
   ],
   "source": [
    "grouped = df.groupby(['A','B'])\n",
    "print(grouped.groups)"
   ]
  },
  {
   "cell_type": "code",
   "execution_count": 8,
   "metadata": {},
   "outputs": [
    {
     "name": "stdout",
     "output_type": "stream",
     "text": [
      "           C   D\n",
      "A   B           \n",
      "bar one    1  21\n",
      "    three  3  23\n",
      "    two    5  25\n",
      "foo one    6  46\n",
      "    three  7  27\n",
      "    two    6  46\n",
      "           C   D\n",
      "A   B           \n",
      "bar one    1  21\n",
      "    three  3  23\n",
      "    two    5  25\n",
      "foo one    6  46\n",
      "    three  7  27\n",
      "    two    6  46\n"
     ]
    }
   ],
   "source": [
    "grouped = df.groupby(['A','B'])\n",
    "print(grouped.aggregate(np.sum))\n",
    "print(grouped.agg(np.sum))"
   ]
  },
  {
   "cell_type": "code",
   "execution_count": 10,
   "metadata": {},
   "outputs": [
    {
     "name": "stdout",
     "output_type": "stream",
     "text": [
      "     A      B  C   D\n",
      "0  bar    one  1  21\n",
      "1  bar  three  3  23\n",
      "2  bar    two  5  25\n",
      "3  foo    one  6  46\n",
      "4  foo  three  7  27\n",
      "5  foo    two  6  46\n"
     ]
    }
   ],
   "source": [
    "grouped = df.groupby(['A','B'], as_index=False)\n",
    "print(grouped.agg(np.sum))"
   ]
  },
  {
   "cell_type": "code",
   "execution_count": 12,
   "metadata": {},
   "outputs": [
    {
     "name": "stdout",
     "output_type": "stream",
     "text": [
      "     A      B  C   D\n",
      "0  bar    one  1  21\n",
      "1  bar  three  3  23\n",
      "2  bar    two  5  25\n",
      "3  foo    one  6  46\n",
      "4  foo  three  7  27\n",
      "5  foo    two  6  46\n"
     ]
    }
   ],
   "source": [
    "grouped = df.groupby(['A','B'])\n",
    "print(grouped.sum().reset_index())"
   ]
  },
  {
   "cell_type": "code",
   "execution_count": 13,
   "metadata": {},
   "outputs": [
    {
     "data": {
      "text/html": [
       "<div>\n",
       "<style scoped>\n",
       "    .dataframe tbody tr th:only-of-type {\n",
       "        vertical-align: middle;\n",
       "    }\n",
       "\n",
       "    .dataframe tbody tr th {\n",
       "        vertical-align: top;\n",
       "    }\n",
       "\n",
       "    .dataframe thead th {\n",
       "        text-align: right;\n",
       "    }\n",
       "</style>\n",
       "<table border=\"1\" class=\"dataframe\">\n",
       "  <thead>\n",
       "    <tr style=\"text-align: right;\">\n",
       "      <th></th>\n",
       "      <th>sum</th>\n",
       "      <th>mean</th>\n",
       "      <th>std</th>\n",
       "    </tr>\n",
       "    <tr>\n",
       "      <th>A</th>\n",
       "      <th></th>\n",
       "      <th></th>\n",
       "      <th></th>\n",
       "    </tr>\n",
       "  </thead>\n",
       "  <tbody>\n",
       "    <tr>\n",
       "      <th>bar</th>\n",
       "      <td>9</td>\n",
       "      <td>3.0</td>\n",
       "      <td>2.000000</td>\n",
       "    </tr>\n",
       "    <tr>\n",
       "      <th>foo</th>\n",
       "      <td>19</td>\n",
       "      <td>3.8</td>\n",
       "      <td>2.863564</td>\n",
       "    </tr>\n",
       "  </tbody>\n",
       "</table>\n",
       "</div>"
      ],
      "text/plain": [
       "     sum  mean       std\n",
       "A                       \n",
       "bar    9   3.0  2.000000\n",
       "foo   19   3.8  2.863564"
      ]
     },
     "execution_count": 13,
     "metadata": {},
     "output_type": "execute_result"
    }
   ],
   "source": [
    "grouped = df.groupby(['A'])\n",
    "grouped['C'].agg([np.sum,np.mean,np.std])"
   ]
  },
  {
   "cell_type": "code",
   "execution_count": 14,
   "metadata": {},
   "outputs": [
    {
     "data": {
      "text/html": [
       "<div>\n",
       "<style scoped>\n",
       "    .dataframe tbody tr th:only-of-type {\n",
       "        vertical-align: middle;\n",
       "    }\n",
       "\n",
       "    .dataframe tbody tr th {\n",
       "        vertical-align: top;\n",
       "    }\n",
       "\n",
       "    .dataframe thead th {\n",
       "        text-align: right;\n",
       "    }\n",
       "</style>\n",
       "<table border=\"1\" class=\"dataframe\">\n",
       "  <thead>\n",
       "    <tr style=\"text-align: right;\">\n",
       "      <th></th>\n",
       "      <th>D</th>\n",
       "      <th>C</th>\n",
       "    </tr>\n",
       "    <tr>\n",
       "      <th>A</th>\n",
       "      <th></th>\n",
       "      <th></th>\n",
       "    </tr>\n",
       "  </thead>\n",
       "  <tbody>\n",
       "    <tr>\n",
       "      <th>bar</th>\n",
       "      <td>2.000000</td>\n",
       "      <td>3.0</td>\n",
       "    </tr>\n",
       "    <tr>\n",
       "      <th>foo</th>\n",
       "      <td>2.863564</td>\n",
       "      <td>3.8</td>\n",
       "    </tr>\n",
       "  </tbody>\n",
       "</table>\n",
       "</div>"
      ],
      "text/plain": [
       "            D    C\n",
       "A                 \n",
       "bar  2.000000  3.0\n",
       "foo  2.863564  3.8"
      ]
     },
     "execution_count": 14,
     "metadata": {},
     "output_type": "execute_result"
    }
   ],
   "source": [
    "grouped = df.groupby(['A'])\n",
    "grouped.agg({'D':'std','C':'mean'})"
   ]
  }
 ],
 "metadata": {
  "kernelspec": {
   "display_name": "Python 3",
   "language": "python",
   "name": "python3"
  },
  "language_info": {
   "codemirror_mode": {
    "name": "ipython",
    "version": 3
   },
   "file_extension": ".py",
   "mimetype": "text/x-python",
   "name": "python",
   "nbconvert_exporter": "python",
   "pygments_lexer": "ipython3",
   "version": "3.7.1"
  }
 },
 "nbformat": 4,
 "nbformat_minor": 2
}
